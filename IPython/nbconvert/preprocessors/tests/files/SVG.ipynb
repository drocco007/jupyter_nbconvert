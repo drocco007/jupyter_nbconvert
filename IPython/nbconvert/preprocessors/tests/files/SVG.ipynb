{
 "cells": [
  {
   "cell_type": "code",
   "metadata": {
    "collapsed": false
   },
   "outputs": [],
   "prompt_number": 1,
   "source": [
    "from IPython.display import SVG"
   ]
  },
  {
   "cell_type": "code",
   "metadata": {
    "collapsed": false
   },
   "outputs": [
    {
     "image/svg+xml": [
      "<svg height=\"100\" width=\"100\">\n",
      "    <circle cx=\"50\" cy=\"50\" fill=\"red\" r=\"40\" stroke=\"black\" stroke-width=\"2\"/>\n",
      "</svg>"
     ],
     "metadata": {},
     "output_type": "execute_result",
     "prompt_number": 2,
     "text/plain": [
      "<IPython.core.display.SVG object>"
     ]
    }
   ],
   "prompt_number": 2,
   "source": [
    "SVG(data='''\n",
    "<svg height=\"100\" width=\"100\">\n",
    "    <circle cx=\"50\" cy=\"50\" r=\"40\" stroke=\"black\" stroke-width=\"2\" fill=\"red\" />\n",
    "</svg>''')"
   ]
  }
 ],
 "metadata": {},
 "nbformat": 4,
 "nbformat_minor": 0
}