{
 "cells": [
  {
   "cell_type": "code",
   "execution_count": 1,
   "metadata": {
    "collapsed": false
   },
   "outputs": [],
   "source": [
    "from IPython.display import SVG"
   ]
  },
  {
   "cell_type": "code",
   "execution_count": 2,
   "metadata": {
    "collapsed": false
   },
   "outputs": [
    {
     "execution_count": 2,
     "image/svg+xml": [
      "<svg height=\"100\" width=\"100\">\n",
      "    <circle cx=\"50\" cy=\"50\" fill=\"red\" r=\"40\" stroke=\"black\" stroke-width=\"2\"/>\n",
      "</svg>"
     ],
     "metadata": {},
     "output_type": "execute_result",
     "text/plain": [
      "<IPython.core.display.SVG object>"
     ]
    }
   ],
   "source": [
    "SVG(data='''\n",
    "<svg height=\"100\" width=\"100\">\n",
    "    <circle cx=\"50\" cy=\"50\" r=\"40\" stroke=\"black\" stroke-width=\"2\" fill=\"red\" />\n",
    "</svg>''')"
   ]
  }
 ],
 "metadata": {},
 "nbformat": 4,
 "nbformat_minor": 0
}