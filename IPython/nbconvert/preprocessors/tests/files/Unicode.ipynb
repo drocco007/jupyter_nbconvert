{
 "cells": [
  {
   "cell_type": "code",
   "metadata": {
    "collapsed": false
   },
   "outputs": [
    {
     "metadata": {},
     "name": "stdout",
     "output_type": "stream",
     "text": "\u2603\n"
    }
   ],
   "prompt_number": 1,
   "source": [
    "print('\u2603')"
   ]
  }
 ],
 "metadata": {},
 "nbformat": 4,
 "nbformat_minor": 0
}