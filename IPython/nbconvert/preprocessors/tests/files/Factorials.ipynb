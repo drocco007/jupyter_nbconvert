{
 "cells": [
  {
   "cell_type": "code",
   "execution_count": 1,
   "metadata": {
    "collapsed": false
   },
   "outputs": [],
   "source": [
    "i, j = 1, 1"
   ]
  },
  {
   "cell_type": "code",
   "execution_count": 2,
   "metadata": {
    "collapsed": false
   },
   "outputs": [
    {
     "metadata": {},
     "name": "stdout",
     "output_type": "stream",
     "text": "2\n3\n5\n8\n13\n21\n34\n55\n89\n144\n"
    }
   ],
   "source": [
    "for m in range(10):\n",
    "    i, j = j, i + j\n",
    "    print(j)"
   ]
  }
 ],
 "metadata": {},
 "nbformat": 4,
 "nbformat_minor": 0
}