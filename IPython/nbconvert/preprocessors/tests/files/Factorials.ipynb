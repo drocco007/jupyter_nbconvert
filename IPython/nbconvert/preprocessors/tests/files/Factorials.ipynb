{
 "cells": [
  {
   "cell_type": "code",
   "metadata": {
    "collapsed": false
   },
   "outputs": [],
   "prompt_number": 1,
   "source": [
    "i, j = 1, 1"
   ]
  },
  {
   "cell_type": "code",
   "metadata": {
    "collapsed": false
   },
   "outputs": [
    {
     "metadata": {},
     "name": "stdout",
     "output_type": "stream",
     "text": "2\n3\n5\n8\n13\n21\n34\n55\n89\n144\n"
    }
   ],
   "prompt_number": 2,
   "source": [
    "for m in range(10):\n",
    "    i, j = j, i + j\n",
    "    print(j)"
   ]
  }
 ],
 "metadata": {},
 "nbformat": 4,
 "nbformat_minor": 0
}